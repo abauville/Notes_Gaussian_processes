{
 "cells": [
  {
   "cell_type": "code",
   "execution_count": 1,
   "id": "5d0f5ab3-9f32-4a0f-b9ca-11d1a82ee420",
   "metadata": {},
   "outputs": [],
   "source": [
    "from test_functions import Hart6\n",
    "import numpy as np\n",
    "import matplotlib.pyplot as plt"
   ]
  },
  {
   "cell_type": "code",
   "execution_count": 2,
   "id": "df6c8b45-8c2a-4325-9d1a-8faca447c92c",
   "metadata": {},
   "outputs": [],
   "source": [
    "test_f = Hart6()"
   ]
  },
  {
   "cell_type": "code",
   "execution_count": 3,
   "id": "58030a03-172d-4536-9e85-2d516e68a14a",
   "metadata": {},
   "outputs": [
    {
     "name": "stderr",
     "output_type": "stream",
     "text": [
      "/var/folders/58/nr_cpjbj1sv1ckm03fv704qc0000gn/T/ipykernel_62514/2595037119.py:5: FutureWarning: The input object of type 'Tensor' is an array-like implementing one of the corresponding protocols (`__array__`, `__array_interface__` or `__array_struct__`); but not a sequence (or 0-D). In the future, this object will be coerced as if it was first converted using `np.array(obj)`. To retain the old behaviour, you have to either modify the type 'Tensor', or assign to an empty array created with `np.empty(correct_shape, dtype=object)`.\n",
      "  y = np.array(y).reshape(-1)\n",
      "/var/folders/58/nr_cpjbj1sv1ckm03fv704qc0000gn/T/ipykernel_62514/2595037119.py:5: VisibleDeprecationWarning: Creating an ndarray from ragged nested sequences (which is a list-or-tuple of lists-or-tuples-or ndarrays with different lengths or shapes) is deprecated. If you meant to do this, you must specify 'dtype=object' when creating the ndarray.\n",
      "  y = np.array(y).reshape(-1)\n"
     ]
    },
    {
     "data": {
      "text/plain": [
       "[<matplotlib.lines.Line2D at 0x7fc73265c910>]"
      ]
     },
     "execution_count": 3,
     "metadata": {},
     "output_type": "execute_result"
    },
    {
     "data": {
      "image/png": "[encoded data removed]",
      "text/plain": [
       "<Figure size 432x288 with 1 Axes>"
      ]
     },
     "metadata": {
      "needs_background": "light"
     },
     "output_type": "display_data"
    }
   ],
   "source": [
    "y = []\n",
    "x = np.linspace(0,1,10)\n",
    "for this_x in x:\n",
    "    y.append(test_f.f(np.array([this_x, 1.0, 0.2, 0.2, 0.3, 0.1])))\n",
    "y = np.array(y).reshape(-1)\n",
    "plt.plot(x,y)"
   ]
  },
  {
   "cell_type": "code",
   "execution_count": 4,
   "id": "e08477cd-1099-4381-8e52-e6e64f484339",
   "metadata": {},
   "outputs": [
    {
     "data": {
      "text/plain": [
       "array([1. , 1. , 0.2, 0.2, 0.3, 0.1])"
      ]
     },
     "execution_count": 4,
     "metadata": {},
     "output_type": "execute_result"
    }
   ],
   "source": [
    "np.array([this_x, 1.0, 0.2, 0.2, 0.3, 0.1])"
   ]
  },
  {
   "cell_type": "code",
   "execution_count": null,
   "id": "9aaf55b0-46b2-4323-9687-c790ea471558",
   "metadata": {},
   "outputs": [],
   "source": []
  }
 ],
 "metadata": {
  "kernelspec": {
   "display_name": "Python 3 (ipykernel)",
   "language": "python",
   "name": "python3"
  },
  "language_info": {
   "codemirror_mode": {
    "name": "ipython",
    "version": 3
   },
   "file_extension": ".py",
   "mimetype": "text/x-python",
   "name": "python",
   "nbconvert_exporter": "python",
   "pygments_lexer": "ipython3",
   "version": "3.9.7"
  }
 },
 "nbformat": 4,
 "nbformat_minor": 5
}
