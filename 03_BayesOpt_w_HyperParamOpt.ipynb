{
 "cells": [
  {
   "cell_type": "markdown",
   "id": "a0480a39-f963-40e4-a313-bfe23be05302",
   "metadata": {},
   "source": [
    "# Bayes Opt + hyperparameter optimization"
   ]
  },
  {
   "cell_type": "code",
   "execution_count": 1,
   "id": "795d6a69-7e10-41c8-b128-b9dd5fc38acf",
   "metadata": {},
   "outputs": [],
   "source": [
    "import math\n",
    "import torch\n",
    "import gpytorch\n",
    "from matplotlib import pyplot as plt\n",
    "from botorch.acquisition.analytic import ExpectedImprovement\n",
    "from botorch.models.gpytorch import GPyTorchModel\n",
    "from IPython.display import clear_output\n"
   ]
  },
  {
   "cell_type": "code",
   "execution_count": 2,
   "id": "b939bf4b-3560-4537-ad47-dacdafed1f6e",
   "metadata": {},
   "outputs": [],
   "source": [
    "# We will use the simplest form of GP model, exact inference\n",
    "class ExactGPModel(GPyTorchModel, gpytorch.models.ExactGP):\n",
    "    _num_outputs = 1\n",
    "    \n",
    "    def __init__(self, train_x, train_y, likelihood):\n",
    "        # super(ExactGPModel, self).__init__(train_x, train_y, likelihood)\n",
    "        super().__init__(train_x.reshape(-1), train_y.reshape(-1), likelihood)\n",
    "        self.mean_module = gpytorch.means.ConstantMean()\n",
    "        self.covar_module = gpytorch.kernels.ScaleKernel(gpytorch.kernels.RBFKernel())\n",
    "        # self.covar_module = gpytorch.kernels.RBFKernel()\n",
    "        # self.covar_module.lengthscale = 0.4\n",
    "        self.to(train_x)\n",
    "        \n",
    "    def forward(self, x):\n",
    "        mean_x = self.mean_module(x)\n",
    "        covar_x = self.covar_module(x)\n",
    "        return gpytorch.distributions.MultivariateNormal(mean_x, covar_x)\n"
   ]
  },
  {
   "cell_type": "code",
   "execution_count": 3,
   "id": "e4418278-c863-4ea7-9d56-c32ad6afacc9",
   "metadata": {},
   "outputs": [],
   "source": [
    "def plot_bayes():\n",
    "    model.eval()\n",
    "    likelihood.eval()\n",
    "    with torch.no_grad():\n",
    "        ax = plt.subplot(2,1,1)\n",
    "        observed_pred = likelihood(model(test_x))\n",
    "        lower, upper = observed_pred.confidence_region()\n",
    "        test_y = f(test_x)\n",
    "        ax.plot(test_x, test_y, '--k', lw=0.5)\n",
    "        ax.plot(train_x, train_y, 'r*')\n",
    "        ax.plot(test_x, observed_pred.mean, 'b')\n",
    "        ax.fill_between(test_x, lower, upper, alpha=0.5)\n",
    "        \n",
    "        ax.set_ylim([test_y.min() - (test_y.max() - test_y.min())*.5, test_y.max() + (test_y.max() - test_y.min())*.5])\n",
    "        # ax.legend(['Observed Data', 'Mean', 'Confidence', 'Ground truth'])\n",
    "        plt.xlim(-0.01,1.01)\n",
    "        plt.subplot(2,1,2)\n",
    "        plt.plot(test_x, ei)\n",
    "        plt.xlim(-0.01,1.01)"
   ]
  },
  {
   "cell_type": "code",
   "execution_count": 4,
   "id": "866b6b7c-0a28-4acc-a920-8164bb63c03c",
   "metadata": {},
   "outputs": [],
   "source": [
    "def train_hyper_params(model, likelihood, training_iter=20, verbose=False):\n",
    "# Find optimal model hyperparameters\n",
    "    model.train()\n",
    "    likelihood.train()\n",
    "\n",
    "    # Use the adam optimizer\n",
    "    optimizer = torch.optim.Adam(model.parameters(), lr=0.1)  # Includes GaussianLikelihood parameters\n",
    "\n",
    "    # \"Loss\" for GPs - the marginal log likelihood\n",
    "    mll = gpytorch.mlls.ExactMarginalLogLikelihood(likelihood, model)\n",
    "    \n",
    "    for i in range(training_iter):\n",
    "        # Zero gradients from previous iteration\n",
    "        optimizer.zero_grad()\n",
    "        # Output from model\n",
    "        output = model(train_x)\n",
    "        # Calc loss and backprop gradients\n",
    "        loss = -mll(output, train_y)\n",
    "        loss.backward()\n",
    "        if verbose:\n",
    "            print('Iter %d/%d - Loss: %.3f   lengthscale: %.3f   noise: %.3f' % (\n",
    "                i + 1, training_iter, loss.item(),\n",
    "                model.covar_module.base_kernel.lengthscale.item(),\n",
    "                model.likelihood.noise.item()\n",
    "            ))\n",
    "        optimizer.step()"
   ]
  },
  {
   "cell_type": "code",
   "execution_count": 14,
   "id": "ca05c374-1f25-4bd0-9e2b-374d46a31f9f",
   "metadata": {},
   "outputs": [],
   "source": [
    "def f(x):\n",
    "    # underlying true function to sample\n",
    "    return - (torch.sin(x * (2 * math.pi)) + torch.sin(x * (6 * math.pi))**3)"
   ]
  },
  {
   "cell_type": "code",
   "execution_count": 18,
   "id": "603d4539-982c-4793-bd92-e9dadb464f7a",
   "metadata": {},
   "outputs": [
    {
     "data": {
      "image/png": "[encoded data removed]",
      "text/plain": [
       "<Figure size 432x288 with 2 Axes>"
      ]
     },
     "metadata": {
      "needs_background": "light"
     },
     "output_type": "display_data"
    }
   ],
   "source": [
    "# initialize likelihood and model\n",
    "likelihood = gpytorch.likelihoods.GaussianLikelihood(noise_constraint=gpytorch.constraints.Interval(0.0,1e-14))\n",
    "test_x = torch.linspace(0,1,50)\n",
    "train_x = torch.rand(1)\n",
    "train_y = f(train_x)\n",
    "best_f = -1.0\n",
    "# while len(train_x)<2 or (train_y[-1] - train_y[-2]).abs()>1e-6:\n",
    "for i in range(20):\n",
    "    model = ExactGPModel(train_x, train_y, likelihood)\n",
    "    train_hyper_params(model, likelihood, training_iter=50)\n",
    "    EI = ExpectedImprovement(model, best_f=best_f, maximize=True)\n",
    "    ei = EI(test_x.reshape(-1,1,1))\n",
    "    x_new = test_x[ei.argmax().item()]\n",
    "    clear_output(wait=True)\n",
    "    y_new = f(x_new)\n",
    "    if y_new.item() > best_f:\n",
    "        best_f = y_new.item()\n",
    "    plot_bayes()\n",
    "    plt.pause(0.5)\n",
    "    train_x = torch.cat((train_x.reshape(-1,1), x_new.reshape(-1,1))).reshape(-1)\n",
    "    train_y = torch.cat((train_y.reshape(-1,1), y_new.reshape(-1,1))).reshape(-1)"
   ]
  },
  {
   "cell_type": "code",
   "execution_count": null,
   "id": "7895a609-94c8-4f22-8f9d-743318fbbd47",
   "metadata": {},
   "outputs": [],
   "source": []
  }
 ],
 "metadata": {
  "kernelspec": {
   "display_name": "Python 3 (ipykernel)",
   "language": "python",
   "name": "python3"
  },
  "language_info": {
   "codemirror_mode": {
    "name": "ipython",
    "version": 3
   },
   "file_extension": ".py",
   "mimetype": "text/x-python",
   "name": "python",
   "nbconvert_exporter": "python",
   "pygments_lexer": "ipython3",
   "version": "3.9.7"
  }
 },
 "nbformat": 4,
 "nbformat_minor": 5
}
